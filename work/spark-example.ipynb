{
 "cells": [
  {
   "cell_type": "markdown",
   "id": "fa0f2614-45c4-4328-bbd9-84ea3aeafa97",
   "metadata": {},
   "source": [
    "## Initial Spark Jobs"
   ]
  },
  {
   "cell_type": "code",
   "execution_count": null,
   "id": "29de8e05-7c67-4432-8afb-f88abfac110a",
   "metadata": {
    "tags": []
   },
   "outputs": [],
   "source": [
    "import pyspark\n",
    "from pyspark.sql import SparkSession\n",
    "from pyspark.conf import SparkConf\n",
    "\n",
    "conf = (\n",
    "    SparkConf()\n",
    "    .set(\"spark.hadoop.fs.s3a.endpoint\", \"http://minio:9000\")\n",
    "    .set(\"spark.hadoop.fs.s3a.access.key\", \"root\")\n",
    "    .set(\"spark.hadoop.fs.s3a.secret.key\", \"root12345\")\n",
    "    .set(\"spark.hadoop.fs.s3a.path.style.access\", True)\n",
    "    .set(\"spark.hadoop.fs.s3a.impl\", \"org.apache.hadoop.fs.s3a.S3AFileSystem\")\n",
    "    .set(\"spark.hadoop.fs.s3a.multipart.size\", \"104857600\")\n",
    "    .set(\"spark.hadoop.fs.s3a.aws.credentials.provider\", \"org.apache.hadoop.fs.s3a.SimpleAWSCredentialsProvider\")\n",
    ")\n",
    "\n",
    "spark = SparkSession.builder.appName('spark-minio').master(\"spark://spark-master:7077\").config(conf=conf).getOrCreate()"
   ]
  },
  {
   "cell_type": "markdown",
   "id": "8470d0a4-72d8-47b5-8c20-0c21cd696934",
   "metadata": {},
   "source": [
    "If it success, Spark UI is accessible at <http://localhost:4040>"
   ]
  },
  {
   "cell_type": "markdown",
   "id": "deb0115c-8e7e-4efc-8864-a74a9adc8e00",
   "metadata": {},
   "source": [
    "## Read movies Data From Minio and display"
   ]
  },
  {
   "cell_type": "code",
   "execution_count": null,
   "id": "afc9f1b3-c568-4668-8e44-80ddc839c4c6",
   "metadata": {
    "tags": []
   },
   "outputs": [],
   "source": [
    "movies = spark.read\\\n",
    "            .option(\"header\", \"true\")\\\n",
    "            .option(\"inferSchema\", \"true\")\\\n",
    "            .csv(\"s3a://datasource/movielens/movies.csv\")\n",
    "movies.createOrReplaceTempView(\"movies\")"
   ]
  },
  {
   "cell_type": "code",
   "execution_count": null,
   "id": "d949735f-9785-4ca8-9cd5-9b5e0b52f035",
   "metadata": {
    "tags": []
   },
   "outputs": [],
   "source": [
    "movies.show()"
   ]
  },
  {
   "cell_type": "markdown",
   "id": "dc6e7183-1a8c-44df-ac75-8bfd05d9b65b",
   "metadata": {},
   "source": [
    "## Read ratings Data From Minio and display"
   ]
  },
  {
   "cell_type": "code",
   "execution_count": null,
   "id": "106fc797-e785-4d1f-98da-68adb3c40c59",
   "metadata": {
    "tags": []
   },
   "outputs": [],
   "source": [
    "ratings = spark.read\\\n",
    "            .option(\"header\", \"true\")\\\n",
    "            .option(\"inferSchema\", \"true\")\\\n",
    "            .parquet(\"s3a://datasource/movielens/ratings.parquet\")\n",
    "ratings.createOrReplaceTempView(\"ratings\")"
   ]
  },
  {
   "cell_type": "code",
   "execution_count": null,
   "id": "11150c6e-f309-4318-956a-85fccbe36b2e",
   "metadata": {
    "tags": []
   },
   "outputs": [],
   "source": [
    "ratings.show()"
   ]
  },
  {
   "cell_type": "markdown",
   "id": "84978b7a-aff1-477f-a439-1d3f81684142",
   "metadata": {},
   "source": [
    "## Select sparkSQL for find top 100 movies"
   ]
  },
  {
   "cell_type": "code",
   "execution_count": null,
   "id": "fc80db05-6ef5-4052-97db-2092aad128e8",
   "metadata": {
    "tags": []
   },
   "outputs": [],
   "source": [
    "top_100_movies = spark.sql(\"\"\"\n",
    "    SELECT m.title, AVG(r.rating) as avg_rating\n",
    "    FROM movies m\n",
    "    LEFT JOIN ratings r ON m.movieId = r.movieID\n",
    "    GROUP BY title\n",
    "    HAVING COUNT(*) > 100\n",
    "    ORDER BY avg_rating DESC\n",
    "    LIMIT 100\n",
    "\"\"\")"
   ]
  },
  {
   "cell_type": "code",
   "execution_count": null,
   "id": "d1b3b4f6-9d79-4e87-bddb-78f3e6899c25",
   "metadata": {
    "tags": []
   },
   "outputs": [],
   "source": [
    "top_100_movies.show()"
   ]
  },
  {
   "cell_type": "markdown",
   "id": "1376b85a-1f78-4462-8879-36b88564779f",
   "metadata": {
    "tags": []
   },
   "source": [
    "## Write Result as parquet"
   ]
  },
  {
   "cell_type": "code",
   "execution_count": null,
   "id": "4db5aff2-62e5-4ce1-9c32-affd770a45c2",
   "metadata": {},
   "outputs": [],
   "source": [
    "top_100_movies.write.mode('overwrite').parquet(\"s3a://datasource/movielens/results/top_100_movies\")"
   ]
  },
  {
   "cell_type": "markdown",
   "id": "fdd794f6-0607-467c-91f1-43175d1547df",
   "metadata": {},
   "source": [
    "## Read result from parquet"
   ]
  },
  {
   "cell_type": "code",
   "execution_count": null,
   "id": "ed1d08c4-06df-4797-bddd-8f5bfaf50c56",
   "metadata": {},
   "outputs": [],
   "source": [
    "spark.read.parquet(\"s3a://datasource/movielens/results/top_100_movies\").show()"
   ]
  },
  {
   "cell_type": "markdown",
   "id": "02c9a88d-59c7-4e06-9225-9ed74eb97c53",
   "metadata": {},
   "source": [
    "## stop spark jobs"
   ]
  },
  {
   "cell_type": "code",
   "execution_count": null,
   "id": "99f9b38c-5947-4899-b4a1-4a42baf38a6d",
   "metadata": {
    "tags": []
   },
   "outputs": [],
   "source": [
    "spark.stop()"
   ]
  },
  {
   "cell_type": "code",
   "execution_count": null,
   "id": "df9d2dfc-c826-4c82-81e9-af272069b169",
   "metadata": {},
   "outputs": [],
   "source": []
  },
  {
   "cell_type": "code",
   "execution_count": null,
   "id": "9b5e48ef-760f-435b-82c3-be3a23b59c35",
   "metadata": {},
   "outputs": [],
   "source": []
  }
 ],
 "metadata": {
  "kernelspec": {
   "display_name": "Python 3 (ipykernel)",
   "language": "python",
   "name": "python3"
  },
  "language_info": {
   "codemirror_mode": {
    "name": "ipython",
    "version": 3
   },
   "file_extension": ".py",
   "mimetype": "text/x-python",
   "name": "python",
   "nbconvert_exporter": "python",
   "pygments_lexer": "ipython3",
   "version": "3.10.10"
  }
 },
 "nbformat": 4,
 "nbformat_minor": 5
}
